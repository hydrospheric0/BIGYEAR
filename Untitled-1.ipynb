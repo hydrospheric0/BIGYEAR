{
 "cells": [
  {
   "cell_type": "markdown",
   "id": "39f4c682",
   "metadata": {},
   "source": [
    "# Import Required Libraries\n",
    "\n",
    "Import pandas and any other necessary libraries."
   ]
  },
  {
   "cell_type": "code",
   "execution_count": null,
   "id": "798c1ffc",
   "metadata": {},
   "outputs": [],
   "source": [
    "import pandas as pd"
   ]
  },
  {
   "cell_type": "markdown",
   "id": "72044737",
   "metadata": {},
   "source": [
    "# Load the CSV File\n",
    "\n",
    "Read the 'ebird_US-CA-113_year_2019_list.csv' file into a pandas DataFrame, skipping any comment lines if necessary."
   ]
  },
  {
   "cell_type": "code",
   "execution_count": null,
   "id": "4bb8c0ab",
   "metadata": {},
   "outputs": [],
   "source": [
    "# Load the CSV file, skipping lines that start with '//' (if present)\n",
    "csv_path = \"/home/hydrospheric/DATA/CODE/BIRDS/BIGYEAR/ebird_US-CA-113_year_2019_list.csv\"\n",
    "df = pd.read_csv(csv_path, comment='/', dtype=str)"
   ]
  },
  {
   "cell_type": "markdown",
   "id": "2b354bbc",
   "metadata": {},
   "source": [
    "# Convert Date Column to Datetime\n",
    "\n",
    "Convert the 'Date' column to pandas datetime objects for accurate sorting."
   ]
  },
  {
   "cell_type": "code",
   "execution_count": null,
   "id": "ef472a35",
   "metadata": {},
   "outputs": [],
   "source": [
    "# Convert the 'Date' column to datetime, errors='coerce' will handle any invalid dates\n",
    "df['Date'] = pd.to_datetime(df['Date'], errors='coerce', format='%d %b %Y')"
   ]
  },
  {
   "cell_type": "markdown",
   "id": "f686949e",
   "metadata": {},
   "source": [
    "# Sort DataFrame by Date\n",
    "\n",
    "Sort the DataFrame by the 'Date' column in ascending order."
   ]
  },
  {
   "cell_type": "code",
   "execution_count": null,
   "id": "0bca3946",
   "metadata": {},
   "outputs": [],
   "source": [
    "# Sort by the 'Date' column\n",
    "df_sorted = df.sort_values(by='Date', ascending=True)"
   ]
  },
  {
   "cell_type": "markdown",
   "id": "84ea0d07",
   "metadata": {},
   "source": [
    "# Display Sorted DataFrame\n",
    "\n",
    "Display the first few rows of the sorted DataFrame to verify the result."
   ]
  },
  {
   "cell_type": "code",
   "execution_count": null,
   "id": "28b4aa0d",
   "metadata": {},
   "outputs": [],
   "source": [
    "# Show the first 10 rows of the sorted DataFrame\n",
    "df_sorted.head(10)"
   ]
  }
 ],
 "metadata": {
  "language_info": {
   "name": "python"
  }
 },
 "nbformat": 4,
 "nbformat_minor": 5
}
