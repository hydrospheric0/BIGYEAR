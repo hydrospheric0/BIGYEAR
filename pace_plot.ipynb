{
 "cells": [
  {
   "cell_type": "markdown",
   "metadata": {},
   "source": [
    "# Plot Big Year Pace Series\n",
    "\n",
    "This notebook reads `big_year_pace.csv` and plots each series in a different color."
   ]
  },
  {
   "cell_type": "code",
   "metadata": {},
   "source": [
    "import pandas as pd\n",
    "import matplotlib.pyplot as plt"
   ]
  },
  {
   "cell_type": "markdown",
   "metadata": {},
   "source": [
    "## Load the CSV File"
   ]
  },
  {
   "cell_type": "code",
   "metadata": {},
   "source": [
    "csv_path = 'big_year_pace.csv'\n",
    "df = pd.read_csv(csv_path, comment='/', skip_blank_lines=True)\n",
    "\n",
    "# Remove any unnamed columns (e.g., from extra commas)\n",
    "df = df.loc[:, ~df.columns.str.contains('^Unnamed')]\n",
    "\n",
    "# Convert 'Date' to string for x-axis labels\n",
    "df['Date'] = df['Date'].astype(str)\n",
    "\n",
    "# Set 'Date' as index\n",
    "df.set_index('Date', inplace=True)"
   ]
  },
  {
   "cell_type": "markdown",
   "metadata": {},
   "source": [
    "## Plot Each Series"
   ]
  },
  {
   "cell_type": "code",
   "metadata": {},
   "source": [
    "plt.figure(figsize=(14,7))\n",
    "for col in df.columns:\n",
    "    plt.plot(df.index, df[col], label=col)\n",
    "plt.xlabel('Date')\n",
    "plt.ylabel('Species Count')\n",
    "plt.title('Big Year Pace by Day')\n",
    "plt.legend()\n",
    "plt.tight_layout()\n",
    "plt.show()"
   ]
  }
 ],
 "metadata": {
  "kernelspec": {
   "display_name": "Python 3",
   "language": "python",
   "name": "python3"
  },
  "language_info": {
   "name": "python",
   "version": "3.8"
  }
 },
 "nbformat": 4,
 "nbformat_minor": 4
}